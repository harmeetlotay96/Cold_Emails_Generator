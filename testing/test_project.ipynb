{
 "cells": [
  {
   "cell_type": "markdown",
   "id": "c77363f5-b477-4bc4-8e44-9f472800c7a4",
   "metadata": {},
   "source": [
    "# Let's Create a Chatbot with RAG!\n",
    "\n",
    "## Define your Problem Statement"
   ]
  },
  {
   "cell_type": "markdown",
   "id": "cb6cbec4-6005-48c8-83be-2c174df8080b",
   "metadata": {},
   "source": [
    "\n",
    "1. Search for an open opportunity at your possible potential clients\n",
    "2. Search for relevant information from the opening that might act as a good starting point for your business\n",
    "3. Go through all of your company's projects and find relevant projects\n",
    "4. Get important to share information about these projects\n",
    "5. Write a compelling cold email about how your firm can be of great service to your potential client\n",
    "6. Repeat for ALL potential clients\n"
   ]
  },
  {
   "cell_type": "code",
   "execution_count": null,
   "id": "9f61dd01-4d19-4329-ba79-38fd6cb64175",
   "metadata": {},
   "outputs": [],
   "source": [
    "# Web Scraping\n",
    "# !pipenv install langchain_community"
   ]
  },
  {
   "cell_type": "markdown",
   "id": "2569e59f-f669-400a-a813-3a7b4c8586b6",
   "metadata": {},
   "source": [
    "### 1. Chat API Inferencing\n"
   ]
  },
  {
   "cell_type": "code",
   "execution_count": 1,
   "id": "a807c718-98eb-4c98-88d2-222fb4f3d375",
   "metadata": {},
   "outputs": [
    {
     "name": "stdout",
     "output_type": "stream",
     "text": [
      "The debate about who is the greatest footballer of all time is ongoing and often subjective, with opinions varying depending on personal taste, cultural context, and generational differences. However, based on various polls, awards, and expert opinions, the top contenders for this title are often narrowed down to a few exceptional players. Here are some of the most commonly cited candidates:\n",
      "\n",
      "1. **Lionel Messi**: Regarded by many as the greatest of all time, Messi has won a record-breaking seven Ballon d'Or awards, ten La Liga titles, and four UEFA Champions League titles. His incredible dribbling skills, goal-scoring ability, and vision on the pitch have made him a legend in the sport.\n",
      "2. **Cristiano Ronaldo**: A five-time Ballon d'Or winner, Ronaldo has consistently dominated the sport, winning numerous titles with Manchester United, Real Madrid, and Juventus. His athleticism, skill, and dedication have made him one of the most successful players in history.\n",
      "3. **Diego Maradona**: A legendary Argentine player, Maradona is often credited with inspiring his country to win the 1986 World Cup. His exceptional dribbling skills, vision, and leadership on the pitch have made him a beloved figure in the sport.\n",
      "4. **Johan Cruyff**: A Dutch football legend, Cruyff is widely regarded as one of the greatest players of all time. He won three Ballon d'Or awards and led the Netherlands to the 1974 World Cup final, introducing the \"Total Football\" style that revolutionized the sport.\n",
      "5. **Pelé**: A three-time World Cup winner with Brazil, Pelé is often considered one of the greatest players of all time. His speed, skill, and scoring ability made him a dominant force on the pitch, and his legacy continues to inspire new generations of players.\n",
      "\n",
      "Ultimately, the question of who is the greatest footballer of all time is a matter of personal opinion. Each of these players has achieved incredible success and has left an indelible mark on the sport.\n"
     ]
    }
   ],
   "source": [
    "from langchain_groq import ChatGroq\n",
    "\n",
    "llm = ChatGroq(\n",
    "    model=\"llama-3.3-70b-versatile\",\n",
    "    temperature=0,\n",
    "    max_tokens=None,\n",
    "    timeout=None,\n",
    "    max_retries=2,\n",
    "    # other params...\n",
    ")\n",
    "\n",
    "response = llm.invoke(\"Who is the greatest footballer of all time?\")\n",
    "print(response.content)"
   ]
  },
  {
   "cell_type": "code",
   "execution_count": 2,
   "id": "c3ba2075-cb88-44bc-b940-d1adb2ffdda6",
   "metadata": {},
   "outputs": [
    {
     "name": "stdout",
     "output_type": "stream",
     "text": [
      "Lionel Messi.\n"
     ]
    }
   ],
   "source": [
    "response = llm.invoke(\"Who is the greatest footballer of all time?, no preamble\")\n",
    "print(response.content)"
   ]
  },
  {
   "cell_type": "markdown",
   "id": "200af9e3-37e8-4bb1-aa41-e28409061c72",
   "metadata": {},
   "source": [
    "## 2. Web Scraping"
   ]
  },
  {
   "cell_type": "code",
   "execution_count": 3,
   "id": "d252d4e1-7ab7-4db4-b1ab-d46e713738ca",
   "metadata": {},
   "outputs": [
    {
     "name": "stderr",
     "output_type": "stream",
     "text": [
      "USER_AGENT environment variable not set, consider setting it to identify your requests.\n"
     ]
    }
   ],
   "source": [
    "from langchain_community.document_loaders import WebBaseLoader\n",
    "\n",
    "loader = WebBaseLoader(\"https://jobs.apple.com/en-us/details/200583355/aiml-senior-data-science-manager-aiml-data?team=MLAI\")\n",
    "page_data = loader.load().pop().page_content"
   ]
  },
  {
   "cell_type": "code",
   "execution_count": 4,
   "id": "22eee2a4-ce62-42d0-9f5e-5ccc3b412808",
   "metadata": {},
   "outputs": [
    {
     "data": {
      "text/plain": [
       "'\\n\\n\\n\\n\\n\\n\\n\\n\\nAIML - Senior Data Science Manager, AIML Data - Careers at Apple\\n\\n\\n\\n\\n\\n\\n\\nAppleStoreMaciPadiPhoneWatchVisionAirPodsTV & HomeEntertainmentAccessoriesSupport\\n\\n\\n0+\\nCareers at AppleOpen MenuClose Menu\\n\\n      Work at Apple\\n    \\n \\n\\n      Life at Apple\\n    \\n \\n\\n      Profile\\n    \\n \\n\\n      Sign In\\n    \\n \\nSearch\\nJobs at Apple\\nAIML - Senior Data Science Manager, AIML DataCupertino, California, United StatesMachine Learning and AIAdd to Favorites AIML - Senior Data Science Manager, AIML DataRemoved from favoritesAdd a favoriteCloseTo view your favorites, sign in with your Apple Account.Sign InDon’t have an Apple Account?Create one nowForgot your Apple Account or password?Submit ResumeAIML - Senior Data Science Manager, AIML DataBack to search resultsSummaryPosted: Jan 2, 2025Role Number:200583355Do you get excited by driving product impact via measurement and evaluation, for products and services used by hundreds of millions of people globally? The vision for the AIML Data organization is to improve products by using data as the voice of our customers. Within this organization the mission of the Search Analytics team is to inform product evolution through measurement, evaluation, and analysis of the user experience. You will partner with machine learning and product engineering teams to improve model and product quality and guide feature development with data, to deliver amazing search experiences across iPhone, iPad, HomePod, Mac, \\uf8ffWatch, \\uf8fftv, across dozens of languages.DescriptionDescriptionResearch and develop evaluation methods to improve the quality of Apple user-facing products, such as Siri, Search, and Apple Intelligence. Work with evaluation/experimentation engineering teams to get your methodological developments translated into technologies that product engineering will use every day. Work with large, complex data sets. Solve difficult, non-routine analysis problems, applying advanced analytical methods as needed. Conduct analysis, including data collection and quality control, requirements specification, processing, and presentations. Build and prototype analysis pipelines iteratively to provide insights at scale. Develop comprehensive knowledge of product data structures and metrics, advocating for changes where needed for product development. Partner closely with product engineering teams on core machine learning algorithms and user experience evaluations. You should be passionate about building outstanding products. This position involves a wide variety of skills and innovation.Minimum QualificationsMinimum Qualifications10+ years of relevant work experience.6-8 years of experience managing a team of data scientists or related roles, including delivering successful projects or initiatives that achieved measurable outcomes. Skilled in mentoring and developing junior talent while fostering a collaborative and innovative environment. Experienced in effective collaboration with cross-functional teams, including product, engineering and tooling, to accomplish shared goals.Proficiency in data science, machine learning, and analytics, including statistical analysis, data quality evaluation, prompt engineering, and fine-tuning models. Strong hands-on expertise in technical execution, including building and deploying models, developing pipelines, and debugging complex data processes. Experienced in designing, conducting, analyzing, and interpreting experiments and investigations.Expertise in setting strategic directions and integrating new technologies and methodologies into workflows to improve team efficiency and deliver significant business impact, while aligning data evaluation strategies with organizational objectives and navigating cross-functional structures for successful execution.Proven capability to lead multiple large-scale, high-impact projects concurrently, balancing strategic oversight with necessary detailed execution to ensure timely and successful delivery within scope.Key QualificationsKey QualificationsPreferred QualificationsPreferred QualificationsAdvanced degree in a quantitative field such as Statistics, Operational Research, Bioinformatics, Economics, Psychology, Computer Science, Sociology, Mathematics, Physics, or a similar quantitative field.Exceptional communication skills with the ability to emphasize statistical rigor and principled methodologies, including presenting analytical findings that influenced key leadership decisions such as strategic pivots or resource allocation. Adept at conveying complex insights clearly and actionably to drive meaningful results.Education & ExperienceEducation & ExperienceAdditional RequirementsAdditional RequirementsPay & BenefitsPay & BenefitsAt Apple, base pay is one part of our total compensation package and is determined within a range. This provides the opportunity to progress as you grow and develop within a role. The base pay range for this role is between $252,400 and $378,700, and your base pay will depend on your skills, qualifications, experience, and location.Apple employees also have the opportunity to become an Apple shareholder through participation in Apple’s discretionary employee stock programs. Apple employees are eligible for discretionary restricted stock unit awards, and can purchase Apple stock at a discount if voluntarily participating in Apple’s Employee Stock Purchase Plan. You’ll also receive benefits including: Comprehensive medical and dental coverage, retirement benefits, a range of discounted products and free services, and for formal education related to advancing your career at Apple, reimbursement for certain educational expenses — including tuition. Additionally, this role might be eligible for discretionary bonuses or commission payments as well as relocation. Learn more about Apple Benefits.Note: Apple benefit, compensation and employee stock programs are subject to eligibility requirements and other terms of the applicable plan or program.MoreApple is an equal opportunity employer that is committed to inclusion and diversity. We take affirmative action to ensure equal opportunity for all applicants without regard to race, color, religion, sex, sexual orientation, gender identity, national origin, disability, Veteran status, or other legally protected characteristics. Learn more about your EEO rights as an applicant.Submit ResumeAIML - Senior Data Science Manager, AIML DataBack to search resultsAdd to Favorites AIML - Senior Data Science Manager, AIML DataRemoved from favoritesAdd a favoriteCloseTo view your favorites, sign in with your Apple Account.Sign InDon’t have an Apple Account?Create one nowForgot your Apple Account or password?See all roles in  Cupertino  \\nApple FooterApple is an equal opportunity employer that is committed to inclusion and diversity. We take affirmative action to ensure equal opportunity for all applicants without regard to race, color, religion, sex, sexual orientation, gender identity, national origin, disability, Veteran status, or other legally protected characteristics. Learn more about your EEO rights as an applicant (Opens in a new window) .Apple will not discriminate or retaliate against applicants who inquire about, disclose, or discuss their compensation or that of other applicants.  United States Department of Labor. Learn more (Opens in a new window) .Apple participates in the E-Verify program in certain locations as required by law.\\xa0Learn more about the E-Verify program (Opens in a new window) .Apple is committed to working with and providing reasonable accommodation to applicants with physical and mental disabilities.  Reasonable Accommodation and Drug Free Workplace policyLearn more (Opens in a new window) .Apple is a drug-free workplace.\\xa0 Reasonable Accommodation and Drug Free Workplace policyLearn more (Opens in a new window) .Apple will consider for employment all qualified applicants with criminal histories in a manner consistent with applicable law. If you’re applying for a position in San Francisco, review the  San Francisco Fair Chance Ordinance guidelines (opens in a new window)  applicable in your area.It is unlawful in Massachusetts to require or administer a lie detector test as a condition of employment or continued employment. An employer who violates this law shall be subject to criminal penalties and civil liability.\\uf8ffAppleCareers at AppleCareers at AppleShop and LearnShop and LearnStoreMaciPadiPhoneWatchVisionAirPodsTV & HomeAirTagAccessoriesGift CardsApple WalletApple WalletWalletApple\\xa0CardApple\\xa0PayApple\\xa0CashAccountAccountManage Your Apple AccountApple Store AccountiCloud.comEntertainmentEntertainmentApple\\xa0OneApple\\xa0TV+Apple\\xa0MusicApple\\xa0ArcadeApple\\xa0Fitness+Apple\\xa0News+Apple PodcastsApple\\xa0BooksApp\\xa0StoreApple StoreApple StoreFind a StoreGenius BarToday at AppleGroup ReservationsApple CampApple Store AppCertified RefurbishedApple\\xa0Trade\\xa0InFinancingCarrier Deals at AppleOrder StatusShopping HelpFor BusinessFor BusinessApple and BusinessShop for BusinessFor EducationFor EducationApple and EducationShop for K-12Shop for CollegeFor HealthcareFor HealthcareApple in HealthcareMac in HealthcareHealth on Apple\\xa0WatchHealth Records on iPhone and iPadFor GovernmentFor GovernmentShop for GovernmentShop for Veterans and MilitaryApple ValuesApple ValuesAccessibilityEducationEnvironmentInclusion and DiversityPrivacyRacial Equity and JusticeSupply ChainAbout AppleAbout AppleNewsroomApple LeadershipCareer OpportunitiesInvestorsEthics & ComplianceEventsContact Apple\\nMore ways to shop: Find an Apple Store or other retailer near you. Or call 1-800-MY-APPLE.United StatesCopyright © 2025 Apple Inc. All rights reserved.Privacy PolicyTerms of UseSales and RefundsLegalSite Map\\n\\n\\n\\n\\n\\n\\n\\n\\n\\n\\n'"
      ]
     },
     "execution_count": 4,
     "metadata": {},
     "output_type": "execute_result"
    }
   ],
   "source": [
    "page_data"
   ]
  },
  {
   "cell_type": "code",
   "execution_count": 5,
   "id": "e2de21e7-b23f-4509-a8c1-8e0b19c8d8d3",
   "metadata": {},
   "outputs": [],
   "source": [
    "from langchain_core.prompts import PromptTemplate\n",
    "\n",
    "prompt_extract = PromptTemplate.from_template(\n",
    "    \"\"\"\n",
    "    I will give you a scraped text from a job posting.\n",
    "    Your job is to extract the job details & requirements in a JSON format containing the following keys: 'role', 'experience', 'skills' and 'description'.\n",
    "    Only return valid JSON. No preamble, please.\n",
    "    Here is the scraped text: {page_data}\n",
    "    \"\"\"\n",
    ")"
   ]
  },
  {
   "cell_type": "code",
   "execution_count": 6,
   "id": "c37778c8-67cc-4056-a9a2-c21035ce02ff",
   "metadata": {},
   "outputs": [
    {
     "name": "stdout",
     "output_type": "stream",
     "text": [
      "```\n",
      "{\n",
      "  \"role\": \"Senior Data Science Manager, AIML Data\",\n",
      "  \"experience\": \"10+ years of relevant work experience, 6-8 years of experience managing a team of data scientists or related roles\",\n",
      "  \"skills\": [\n",
      "    \"Data science\",\n",
      "    \"Machine learning\",\n",
      "    \"Analytics\",\n",
      "    \"Statistical analysis\",\n",
      "    \"Data quality evaluation\",\n",
      "    \"Prompt engineering\",\n",
      "    \"Fine-tuning models\",\n",
      "    \"Technical execution\",\n",
      "    \"Building and deploying models\",\n",
      "    \"Developing pipelines\",\n",
      "    \"Debugging complex data processes\"\n",
      "  ],\n",
      "  \"description\": \"Drive product impact via measurement and evaluation, improve product quality and guide feature development with data. Partner with machine learning and product engineering teams to deliver amazing search experiences across Apple products.\"\n",
      "}\n",
      "```\n",
      "<class 'str'>\n"
     ]
    }
   ],
   "source": [
    "# Extract the relevant information\n",
    "chain_extract = prompt_extract | llm\n",
    "response = chain_extract.invoke(input={'page_data': page_data})\n",
    "print(response.content)\n",
    "print(type(response.content))\n"
   ]
  },
  {
   "cell_type": "code",
   "execution_count": 7,
   "id": "6af6a45a-ff72-4fb2-ad85-47e204cbe26c",
   "metadata": {},
   "outputs": [
    {
     "name": "stdout",
     "output_type": "stream",
     "text": [
      "{'role': 'Senior Data Science Manager, AIML Data', 'experience': '10+ years of relevant work experience, 6-8 years of experience managing a team of data scientists or related roles', 'skills': ['Data science', 'Machine learning', 'Analytics', 'Statistical analysis', 'Data quality evaluation', 'Prompt engineering', 'Fine-tuning models', 'Technical execution', 'Building and deploying models', 'Developing pipelines', 'Debugging complex data processes'], 'description': 'Drive product impact via measurement and evaluation, improve product quality and guide feature development with data. Partner with machine learning and product engineering teams to deliver amazing search experiences across Apple products.'}\n",
      "<class 'dict'>\n"
     ]
    }
   ],
   "source": [
    "# Convert to JSON\n",
    "from langchain_core.output_parsers import JsonOutputParser\n",
    "\n",
    "json_parser = JsonOutputParser()\n",
    "json_response = json_parser.parse(response.content)\n",
    "\n",
    "print(json_response)\n",
    "print(type(json_response))"
   ]
  },
  {
   "cell_type": "markdown",
   "id": "442fa04b-f1e1-4bd8-bd85-905cbd25318b",
   "metadata": {},
   "source": [
    "## 3. Store Relevant Info in Vector DB"
   ]
  },
  {
   "cell_type": "code",
   "execution_count": 8,
   "id": "ecbb4b00-324b-4222-b2ec-3ec2fab9b83f",
   "metadata": {},
   "outputs": [
    {
     "name": "stdout",
     "output_type": "stream",
     "text": [
      "('Python', ' SQL', ' Pandas')  https://github.com/user/project1\n",
      "('SQL', ' Python', ' Airflow')  https://github.com/user/project2\n",
      "('PySpark', ' Spark SQL', ' Delta Lake')  https://github.com/user/project3\n",
      "('Machine Learning', ' Deep Learning', ' TensorFlow')  https://github.com/user/project4\n",
      "('Data Engineering', ' ETL', ' ELT')  https://github.com/user/project5\n",
      "('Cloud Platforms (AWS', ' GCP', ' Azure)')  https://github.com/user/project6\n",
      "('Data Warehousing', ' Data Modeling', ' DBT')  https://github.com/user/project7\n",
      "('Data Visualization', ' Power BI', ' Tableau')  https://github.com/user/project8\n",
      "('MLOps', ' MLflow', ' Kubeflow')  https://github.com/user/project9\n",
      "('Natural Language Processing (NLP)', ' NLTK', ' spaCy')  https://github.com/user/project10\n",
      "('Computer Vision', ' OpenCV', ' TensorFlow')  https://github.com/user/project11\n",
      "('Time Series Analysis', ' Forecasting', ' Prophet')  https://github.com/user/project12\n",
      "('Data Cleaning', ' Data Wrangling', ' Pandas')  https://github.com/user/project13\n",
      "('Feature Engineering', ' Scikit-learn')  https://github.com/user/project14\n",
      "('Statistical Analysis', ' Hypothesis Testing')  https://github.com/user/project15\n",
      "('Data Ethics', ' Privacy', ' GDPR')  https://github.com/user/project16\n",
      "('Big Data', ' Hadoop', ' Spark')  https://github.com/user/project17\n",
      "('Data Governance', ' Data Quality', ' Metadata Management')  https://github.com/user/project18\n",
      "('Data Security', ' Encryption', ' Tokenization')  https://github.com/user/project19\n",
      "('Cloud Data Engineering', ' AWS Glue', ' Databricks')  https://github.com/user/project20\n"
     ]
    }
   ],
   "source": [
    "import csv\n",
    "\n",
    "def read_csv_file(file_path):\n",
    "    data = []\n",
    "    with open(file_path, 'r') as file:\n",
    "        csv_reader = csv.reader(file)\n",
    "        # Skip the header row\n",
    "        next(csv_reader)\n",
    "        for row in csv_reader:\n",
    "            # Separate technical skills (list) and project link (string)\n",
    "            skills = tuple(row[:-1]) # Exclude the last element which is the project link\n",
    "            project_link = row[-1] \n",
    "            data.append((skills, project_link))\n",
    "    return data\n",
    "\n",
    "# Example usage:\n",
    "file_path = '../sample_portfolio.csv'\n",
    "data = read_csv_file(file_path)\n",
    "\n",
    "for skills, project_link in data:\n",
    "    print(skills, project_link)"
   ]
  },
  {
   "cell_type": "code",
   "execution_count": 9,
   "id": "00c14958-ffe6-4599-9b79-742260878177",
   "metadata": {},
   "outputs": [],
   "source": [
    "# Insert data into vector database\n",
    "\n",
    "import uuid\n",
    "import chromadb\n",
    "\n",
    "client = chromadb.PersistentClient('vectorstore')\n",
    "collection = client.get_or_create_collection(name='portfolio_links')\n",
    "\n",
    "if not collection.count():\n",
    "    for skills, project_link in data:\n",
    "        collection.add(\n",
    "            documents=str(skills),\n",
    "            metadatas={\n",
    "                'portfolio_url': project_link\n",
    "            },\n",
    "            ids = str(uuid.uuid4())\n",
    "        )"
   ]
  },
  {
   "cell_type": "markdown",
   "id": "760662ba-3d59-414d-b45a-3323d241f265",
   "metadata": {},
   "source": [
    "## 4. Generate Cold Email"
   ]
  },
  {
   "cell_type": "code",
   "execution_count": 10,
   "id": "d79bc439-f7d5-46a1-899d-a76b98922315",
   "metadata": {},
   "outputs": [
    {
     "data": {
      "text/plain": [
       "['Data science',\n",
       " 'Machine learning',\n",
       " 'Analytics',\n",
       " 'Statistical analysis',\n",
       " 'Data quality evaluation',\n",
       " 'Prompt engineering',\n",
       " 'Fine-tuning models',\n",
       " 'Technical execution',\n",
       " 'Building and deploying models',\n",
       " 'Developing pipelines',\n",
       " 'Debugging complex data processes']"
      ]
     },
     "execution_count": 10,
     "metadata": {},
     "output_type": "execute_result"
    }
   ],
   "source": [
    "json_response['skills']"
   ]
  },
  {
   "cell_type": "code",
   "execution_count": 11,
   "id": "4ff90123-8176-4aeb-8cbc-3ec8b7951ca4",
   "metadata": {},
   "outputs": [
    {
     "data": {
      "text/plain": [
       "{'ids': [['b54bd83c-7fe2-443e-a408-005ebfc2ff52',\n",
       "   '4231e210-a217-467f-9d72-579a4d2a4203']],\n",
       " 'embeddings': None,\n",
       " 'documents': [[\"('Data Warehousing', ' Data Modeling', ' DBT')\",\n",
       "   \"('Data Governance', ' Data Quality', ' Metadata Management')\"]],\n",
       " 'uris': None,\n",
       " 'data': None,\n",
       " 'metadatas': [[{'portfolio_url': ' https://github.com/user/project7'},\n",
       "   {'portfolio_url': ' https://github.com/user/project18'}]],\n",
       " 'distances': [[0.7733153595301009, 0.8905141540339159]],\n",
       " 'included': [<IncludeEnum.distances: 'distances'>,\n",
       "  <IncludeEnum.documents: 'documents'>,\n",
       "  <IncludeEnum.metadatas: 'metadatas'>]}"
      ]
     },
     "execution_count": 11,
     "metadata": {},
     "output_type": "execute_result"
    }
   ],
   "source": [
    "matched_portfolio_urls = collection.query(query_texts=json_response['skills'][0], n_results=2)\n",
    "matched_portfolio_urls"
   ]
  },
  {
   "cell_type": "code",
   "execution_count": 12,
   "id": "4dfbe8a6-a70e-4fff-9dc3-77d3a2b835ea",
   "metadata": {},
   "outputs": [],
   "source": [
    "email_prompt = PromptTemplate.from_template(\n",
    "    \"\"\"\n",
    "    I will give you a role and a task that you have to perform in that specific role.\n",
    "    Your Role: Your name is Harmeet, You are an incredible business development officer who knows how to get clients. You work for X Consulting firm, your firm works with all sorts of IT clients and provide solutions in the domain of Data Science and AI. \n",
    "    X AI focuses on efficient tailored solutions for all clients keeping costs down. \n",
    "    Your Job: Your Job is to write cold emails to clients regarding the Job openings that they have advertised. Try to pitch your clients with an email hook that opens a conversation about a possibility of working with them. Add the most relevant portfolio URLs from\n",
    "    the following (shared below) to showcase that we have the right expertise to get the job done. \n",
    "    I will now provide you with the Job description and the portfolio URLs:\n",
    "    JOB DESCRIPTION: {job_description}\n",
    "    ------\n",
    "    PORTFOLIO URLS: {portfolio_urls}\n",
    "    \"\"\"\n",
    ")"
   ]
  },
  {
   "cell_type": "code",
   "execution_count": 13,
   "id": "99cc0286-4b0e-4c59-805c-3a6675d47b8a",
   "metadata": {},
   "outputs": [],
   "source": [
    "job_description = json_response['description']"
   ]
  },
  {
   "cell_type": "code",
   "execution_count": 14,
   "id": "ae0e0f3c-7dc3-4ba9-8bfe-959e58eaab9d",
   "metadata": {},
   "outputs": [
    {
     "name": "stdout",
     "output_type": "stream",
     "text": [
      "Subject: Enhancing Product Impact with Data-Driven Solutions\n",
      "\n",
      "Dear Hiring Manager,\n",
      "\n",
      "I came across the job description for a role that focuses on driving product impact via measurement and evaluation, improving product quality, and guiding feature development with data. As a Business Development Officer at X Consulting firm, I was impressed by the emphasis on leveraging data to deliver exceptional search experiences across Apple products.\n",
      "\n",
      "Our team at X AI has extensive experience in providing tailored solutions in the domain of Data Science and AI, with a strong focus on efficient and cost-effective approaches. I'd like to highlight a few examples of our work that align with the requirements of this role:\n",
      "\n",
      "* Our expertise in Data Warehousing, Data Modeling, and DBT can help streamline data management and provide a solid foundation for data-driven decision-making. You can explore our project on Data Warehousing and Data Modeling at https://github.com/user/project7.\n",
      "* We've also developed robust Data Governance, Data Quality, and Metadata Management frameworks that can ensure the integrity and reliability of your data assets. You can review our work on Data Governance and Data Quality at https://github.com/user/project18.\n",
      "\n",
      "Our team is well-equipped to partner with machine learning and product engineering teams to deliver high-quality search experiences. I'd love to discuss how our expertise can support your goals and explore potential collaboration opportunities.\n",
      "\n",
      "Would you be open to a brief call to discuss how X AI can help drive product impact and improvement at Apple? I'm confident that our tailored solutions can make a significant difference in achieving your objectives.\n",
      "\n",
      "Looking forward to the possibility of working together.\n",
      "\n",
      "Best regards,\n",
      "\n",
      "Harmeet\n",
      "Business Development Officer\n",
      "X Consulting firm\n",
      "X AI\n"
     ]
    }
   ],
   "source": [
    "chain_email = email_prompt | llm\n",
    "response = chain_email.invoke({'job_description':job_description, 'portfolio_urls':matched_portfolio_urls})\n",
    "print(response.content)"
   ]
  },
  {
   "cell_type": "code",
   "execution_count": null,
   "id": "e2df4dfe-7756-46c2-bdf9-77e51f09832f",
   "metadata": {},
   "outputs": [],
   "source": []
  }
 ],
 "metadata": {
  "kernelspec": {
   "display_name": "Python 3 (ipykernel)",
   "language": "python",
   "name": "python3"
  },
  "language_info": {
   "codemirror_mode": {
    "name": "ipython",
    "version": 3
   },
   "file_extension": ".py",
   "mimetype": "text/x-python",
   "name": "python",
   "nbconvert_exporter": "python",
   "pygments_lexer": "ipython3",
   "version": "3.13.2"
  }
 },
 "nbformat": 4,
 "nbformat_minor": 5
}
