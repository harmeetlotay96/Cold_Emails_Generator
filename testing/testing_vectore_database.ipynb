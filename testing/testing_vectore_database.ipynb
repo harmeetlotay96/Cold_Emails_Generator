{
 "cells": [
  {
   "cell_type": "markdown",
   "id": "fadba011-3c09-4117-ad76-9f6afde76140",
   "metadata": {},
   "source": [
    "# Understanding Vector Databases"
   ]
  },
  {
   "cell_type": "markdown",
   "id": "9fd2e20c-0d5e-41ac-82db-bccbee5aac76",
   "metadata": {},
   "source": [
    "## 1. Install and Import Necessary Packages"
   ]
  },
  {
   "cell_type": "code",
   "execution_count": null,
   "id": "f4f82c02-98bc-44b7-a1ff-f404651e79aa",
   "metadata": {},
   "outputs": [],
   "source": [
    "# Setup Chromadb\n",
    "# !pipenv install chromadb"
   ]
  },
  {
   "cell_type": "code",
   "execution_count": 1,
   "id": "69bac1ab-a6e3-4a96-9ef0-d86385b7c2c2",
   "metadata": {},
   "outputs": [],
   "source": [
    "import chromadb\n",
    "\n",
    "client = chromadb.Client()\n",
    "collection = client.create_collection(name=\"my_collection\")"
   ]
  },
  {
   "cell_type": "markdown",
   "id": "410f08e6-8e2e-48dd-9407-4cc7e2c5a2e9",
   "metadata": {},
   "source": [
    "## 2. Lets create a collection of documents"
   ]
  },
  {
   "cell_type": "code",
   "execution_count": 2,
   "id": "33b81f2c-8e49-46b0-a74d-a73e4faa8a48",
   "metadata": {},
   "outputs": [],
   "source": [
    "collection.add(\n",
    "    documents = [\n",
    "        \"I like eating apple everyday\",\n",
    "        \"I like my apple iphone\",\n",
    "        \"Do you like apple?\"\n",
    "    ],\n",
    "    ids = [\"id1\", \"id2\", \"id3\"],\n",
    "    metadatas = [\n",
    "        {\"url\": \"source_to_id_1\"},\n",
    "        {\"url\": \"source_to_id_2\"},\n",
    "        {\"url\": \"source_to_id_3\"},\n",
    "    ]\n",
    ")\n",
    "        "
   ]
  },
  {
   "cell_type": "code",
   "execution_count": 3,
   "id": "bed47c6c-9b7e-4a16-9444-d18986b93179",
   "metadata": {},
   "outputs": [
    {
     "name": "stdout",
     "output_type": "stream",
     "text": [
      "{'ids': ['id1', 'id2', 'id3'], 'embeddings': None, 'documents': ['I like eating apple everyday', 'I like my apple iphone', 'Do you like apple?'], 'uris': None, 'data': None, 'metadatas': [{'url': 'source_to_id_1'}, {'url': 'source_to_id_2'}, {'url': 'source_to_id_3'}], 'included': [<IncludeEnum.documents: 'documents'>, <IncludeEnum.metadatas: 'metadatas'>]}\n"
     ]
    }
   ],
   "source": [
    "print(collection.get())"
   ]
  },
  {
   "cell_type": "code",
   "execution_count": 4,
   "id": "052970b5-38ec-4d1d-bafd-7521fd0b13ff",
   "metadata": {},
   "outputs": [
    {
     "name": "stdout",
     "output_type": "stream",
     "text": [
      "{'ids': ['id1'], 'embeddings': None, 'documents': ['I like eating apple everyday'], 'uris': None, 'data': None, 'metadatas': [{'url': 'source_to_id_1'}], 'included': [<IncludeEnum.documents: 'documents'>, <IncludeEnum.metadatas: 'metadatas'>]}\n"
     ]
    }
   ],
   "source": [
    "print(collection.get(ids=\"id1\"))"
   ]
  },
  {
   "cell_type": "markdown",
   "id": "5af027a7-41e7-414f-a015-48eabf0dd6f9",
   "metadata": {},
   "source": [
    "## 3. Querying a Vector Database"
   ]
  },
  {
   "cell_type": "code",
   "execution_count": 5,
   "id": "7a8288d4-67ad-4657-915b-2b800426864f",
   "metadata": {},
   "outputs": [
    {
     "data": {
      "text/plain": [
       "{'ids': [['id2', 'id3']],\n",
       " 'embeddings': None,\n",
       " 'documents': [['I like my apple iphone', 'Do you like apple?']],\n",
       " 'uris': None,\n",
       " 'data': None,\n",
       " 'metadatas': [[{'url': 'source_to_id_2'}, {'url': 'source_to_id_3'}]],\n",
       " 'distances': [[1.0666582584381104, 1.2515043020248413]],\n",
       " 'included': [<IncludeEnum.distances: 'distances'>,\n",
       "  <IncludeEnum.documents: 'documents'>,\n",
       "  <IncludeEnum.metadatas: 'metadatas'>]}"
      ]
     },
     "execution_count": 5,
     "metadata": {},
     "output_type": "execute_result"
    }
   ],
   "source": [
    "collection.query(query_texts=[\"I like technology\"], n_results=2)"
   ]
  },
  {
   "cell_type": "code",
   "execution_count": 6,
   "id": "8cb9a86c-f31a-430d-9d19-94ceecb8b0dc",
   "metadata": {},
   "outputs": [
    {
     "data": {
      "text/plain": [
       "{'ids': [['id1', 'id3']],\n",
       " 'embeddings': None,\n",
       " 'documents': [['I like eating apple everyday', 'Do you like apple?']],\n",
       " 'uris': None,\n",
       " 'data': None,\n",
       " 'metadatas': [[{'url': 'source_to_id_1'}, {'url': 'source_to_id_3'}]],\n",
       " 'distances': [[0.9925782680511475, 1.4635143280029297]],\n",
       " 'included': [<IncludeEnum.distances: 'distances'>,\n",
       "  <IncludeEnum.documents: 'documents'>,\n",
       "  <IncludeEnum.metadatas: 'metadatas'>]}"
      ]
     },
     "execution_count": 6,
     "metadata": {},
     "output_type": "execute_result"
    }
   ],
   "source": [
    "collection.query(query_texts=[\"Do you eat healthy?\"], n_results=2)"
   ]
  },
  {
   "cell_type": "code",
   "execution_count": null,
   "id": "ef73e2d1-4239-43b2-b24b-0a57815fda6c",
   "metadata": {},
   "outputs": [],
   "source": []
  }
 ],
 "metadata": {
  "kernelspec": {
   "display_name": "Python 3 (ipykernel)",
   "language": "python",
   "name": "python3"
  },
  "language_info": {
   "codemirror_mode": {
    "name": "ipython",
    "version": 3
   },
   "file_extension": ".py",
   "mimetype": "text/x-python",
   "name": "python",
   "nbconvert_exporter": "python",
   "pygments_lexer": "ipython3",
   "version": "3.13.2"
  }
 },
 "nbformat": 4,
 "nbformat_minor": 5
}
