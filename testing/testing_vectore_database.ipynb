{
 "cells": [
  {
   "cell_type": "code",
   "execution_count": 1,
   "id": "e1dd5d58-4e69-439d-9c8e-17e60d6d2c8b",
   "metadata": {},
   "outputs": [
    {
     "name": "stdout",
     "output_type": "stream",
     "text": [
      "\u001b[1mLoading .env environment variables...\u001b[0m\n",
      "\u001b[1;32mInstalling langchain_groq...\u001b[0m\n",
      "✔ Installation Succeeded\n",
      "\u001b[1mInstalling dependencies from Pipfile.lock \u001b[0m\u001b[1;39m(0720b8)...\u001b[0m\n",
      "\u001b[32mAll dependencies are now up-to-date!\u001b[0m\n",
      "\u001b[1;32mUpgrading\u001b[0m langchain_groq in \u001b[39m dependencies.\u001b[0m\n",
      "\u001b[?25lBuilding requirements...\n",
      "\u001b[2KResolving dependencies....\n",
      "\u001b[2K✔ Success! Locking packages...\n",
      "\u001b[2K\u001b[32m⠹\u001b[0m Locking packages...\n",
      "\u001b[1A\u001b[2K\u001b[?25lBuilding requirements...\n",
      "\u001b[2KResolving dependencies....\n",
      "\u001b[2K✔ Success! Locking packages...\n",
      "\u001b[2K\u001b[32m⠧\u001b[0m Locking packages...\n",
      "\u001b[1A\u001b[2K\u001b[1mInstalling dependencies from Pipfile.lock \u001b[0m\u001b[1;39m(342532)...\u001b[0m\n",
      "\u001b[32mAll dependencies are now up-to-date!\u001b[0m\n",
      "\u001b[1mInstalling dependencies from Pipfile.lock \u001b[0m\u001b[1;39m(342532)...\u001b[0m\n"
     ]
    }
   ],
   "source": [
    "!pipenv install langchain_groq"
   ]
  },
  {
   "cell_type": "code",
   "execution_count": 11,
   "id": "380fdd0f-2dd4-4aea-bde6-bce6ef51de87",
   "metadata": {},
   "outputs": [
    {
     "name": "stdout",
     "output_type": "stream",
     "text": [
      "The question of who is the greatest footballer of all time is a matter of debate and personal opinion. There have been many talented footballers throughout history, and opinions on the best player can vary depending on individual perspectives, cultural backgrounds, and generational differences.\n",
      "\n",
      "Some of the most commonly mentioned candidates for the title of greatest footballer of all time include:\n",
      "\n",
      "1. Lionel Messi: Regarded by many as one of the most skilled and dominant players in the history of the sport, Messi has won numerous awards, including six Ballon d'Or awards, and has led his teams to numerous championships.\n",
      "2. Cristiano Ronaldo: A prolific goal-scorer and highly skilled player, Ronaldo has won five Ballon d'Or awards and has led his teams to numerous championships, including multiple UEFA Champions League titles.\n",
      "3. Diego Maradona: A legendary Argentine player, Maradona is widely regarded as one of the greatest players of all time, known for his exceptional skill, vision, and leadership on the field.\n",
      "4. Johan Cruyff: A Dutch player and coach, Cruyff is credited with revolutionizing the game with his innovative style of play and his influence on the development of Total Football.\n",
      "5. Pele: A Brazilian legend, Pele is a three-time World Cup winner and is widely regarded as one of the greatest players of all time, known for his speed, skill, and scoring ability.\n",
      "\n",
      "Other notable players who are often mentioned in discussions about the greatest footballer of all time include:\n",
      "\n",
      "* Zinedine Zidane\n",
      "* Andres Iniesta\n",
      "* Xavi Hernandez\n",
      "* Franz Beckenbauer\n",
      "* Gerd Muller\n",
      "* Ronaldinho\n",
      "* Thierry Henry\n",
      "* Roberto Baggio\n",
      "\n",
      "Ultimately, the question of who is the greatest footballer of all time is subjective and can depend on individual perspectives and criteria for evaluation. Some people may prioritize individual awards and accolades, while others may emphasize team success, leadership, and overall impact on the game.\n",
      "\n",
      "It's worth noting that the concept of a single \"greatest\" player can be limiting, as different players have excelled in different eras, styles, and contexts. A more nuanced approach might be to recognize and appreciate the unique contributions and achievements of various players throughout history, rather than trying to crown a single \"greatest\" player.\n"
     ]
    }
   ],
   "source": [
    "from langchain_groq import ChatGroq\n",
    "\n",
    "llm = ChatGroq(\n",
    "    model=\"llama-3.3-70b-versatile\",\n",
    "    temperature=0,\n",
    "    max_tokens=None,\n",
    "    timeout=None,\n",
    "    max_retries=2,\n",
    "    # other params...\n",
    ")\n",
    "\n",
    "response = llm.invoke(\"Who is the greatest footballer of all time?\")\n",
    "print(response.content)"
   ]
  },
  {
   "cell_type": "code",
   "execution_count": 12,
   "id": "9cc8afca-5564-4dc7-82a2-49e3f24fbabb",
   "metadata": {},
   "outputs": [
    {
     "name": "stdout",
     "output_type": "stream",
     "text": [
      "Lionel Messi.\n"
     ]
    }
   ],
   "source": [
    "response = llm.invoke(\"Who is the greatest footballer of all time?, no preamble\")\n",
    "print(response.content)"
   ]
  },
  {
   "cell_type": "code",
   "execution_count": 13,
   "id": "f4f82c02-98bc-44b7-a1ff-f404651e79aa",
   "metadata": {},
   "outputs": [
    {
     "name": "stdout",
     "output_type": "stream",
     "text": [
      "\u001b[1mLoading .env environment variables...\u001b[0m\n",
      "\u001b[1;32mInstalling chromadb...\u001b[0m\n",
      "✔ Installation Succeeded\n",
      "\u001b[1mInstalling dependencies from Pipfile.lock \u001b[0m\u001b[1;39m(342532)...\u001b[0m\n",
      "\u001b[32mAll dependencies are now up-to-date!\u001b[0m\n",
      "\u001b[1;32mUpgrading\u001b[0m chromadb in \u001b[39m dependencies.\u001b[0m\n",
      "\u001b[?25lBuilding requirements...\n",
      "\u001b[2KResolving dependencies....\n",
      "\u001b[2K✔ Success! Locking packages...\n",
      "\u001b[2K\u001b[32m⠴\u001b[0m Locking packages...\n",
      "\u001b[1A\u001b[2K\u001b[?25lBuilding requirements...\n",
      "\u001b[2KResolving dependencies....\n",
      "\u001b[2K✔ Success! Locking packages...\n",
      "\u001b[2K\u001b[32m⠦\u001b[0m Locking packages...\n",
      "\u001b[1A\u001b[2K\u001b[1mInstalling dependencies from Pipfile.lock \u001b[0m\u001b[1;39m(5bd434)...\u001b[0m\n",
      "\u001b[32mAll dependencies are now up-to-date!\u001b[0m\n",
      "\u001b[1mInstalling dependencies from Pipfile.lock \u001b[0m\u001b[1;39m(5bd434)...\u001b[0m\n"
     ]
    }
   ],
   "source": [
    "# Setup Chromadb\n",
    "!pipenv install chromadb"
   ]
  },
  {
   "cell_type": "code",
   "execution_count": 15,
   "id": "69bac1ab-a6e3-4a96-9ef0-d86385b7c2c2",
   "metadata": {},
   "outputs": [],
   "source": [
    "import chromadb\n",
    "\n",
    "client = chromadb.Client()\n",
    "collection = client.create_collection(name=\"my_collection\")"
   ]
  },
  {
   "cell_type": "code",
   "execution_count": 17,
   "id": "33b81f2c-8e49-46b0-a74d-a73e4faa8a48",
   "metadata": {},
   "outputs": [
    {
     "name": "stderr",
     "output_type": "stream",
     "text": [
      "/Users/harmeetsingh/.cache/chroma/onnx_models/all-MiniLM-L6-v2/onnx.tar.gz: 100%|███████| 79.3M/79.3M [00:03<00:00, 26.5MiB/s]\n"
     ]
    }
   ],
   "source": [
    "collection.add(\n",
    "    documents = [\n",
    "        \"I like eating apple everyday\",\n",
    "        \"I like my apple iphone\",\n",
    "        \"Do you like apple?\"\n",
    "    ],\n",
    "    ids = [\"id1\", \"id2\", \"id3\"],\n",
    "    metadatas = [\n",
    "        {\"url\": \"source_to_id_1\"},\n",
    "        {\"url\": \"source_to_id_2\"},\n",
    "        {\"url\": \"source_to_id_3\"},\n",
    "    ]\n",
    ")\n",
    "        "
   ]
  },
  {
   "cell_type": "code",
   "execution_count": 18,
   "id": "bed47c6c-9b7e-4a16-9444-d18986b93179",
   "metadata": {},
   "outputs": [
    {
     "name": "stdout",
     "output_type": "stream",
     "text": [
      "{'ids': ['id1', 'id2', 'id3'], 'embeddings': None, 'documents': ['I like eating apple everyday', 'I like my apple iphone', 'Do you like apple?'], 'uris': None, 'data': None, 'metadatas': [{'url': 'source_to_id_1'}, {'url': 'source_to_id_2'}, {'url': 'source_to_id_3'}], 'included': [<IncludeEnum.documents: 'documents'>, <IncludeEnum.metadatas: 'metadatas'>]}\n"
     ]
    }
   ],
   "source": [
    "print(collection.get())"
   ]
  },
  {
   "cell_type": "code",
   "execution_count": 20,
   "id": "052970b5-38ec-4d1d-bafd-7521fd0b13ff",
   "metadata": {},
   "outputs": [
    {
     "name": "stdout",
     "output_type": "stream",
     "text": [
      "{'ids': ['id1'], 'embeddings': None, 'documents': ['I like eating apple everyday'], 'uris': None, 'data': None, 'metadatas': [{'url': 'source_to_id_1'}], 'included': [<IncludeEnum.documents: 'documents'>, <IncludeEnum.metadatas: 'metadatas'>]}\n"
     ]
    }
   ],
   "source": [
    "print(collection.get(ids=\"id1\"))"
   ]
  },
  {
   "cell_type": "code",
   "execution_count": 26,
   "id": "7a8288d4-67ad-4657-915b-2b800426864f",
   "metadata": {},
   "outputs": [
    {
     "data": {
      "text/plain": [
       "{'ids': [['id2', 'id3']],\n",
       " 'embeddings': None,\n",
       " 'documents': [['I like my apple iphone', 'Do you like apple?']],\n",
       " 'uris': None,\n",
       " 'data': None,\n",
       " 'metadatas': [[{'url': 'source_to_id_2'}, {'url': 'source_to_id_3'}]],\n",
       " 'distances': [[1.0666582584381104, 1.2515043020248413]],\n",
       " 'included': [<IncludeEnum.distances: 'distances'>,\n",
       "  <IncludeEnum.documents: 'documents'>,\n",
       "  <IncludeEnum.metadatas: 'metadatas'>]}"
      ]
     },
     "execution_count": 26,
     "metadata": {},
     "output_type": "execute_result"
    }
   ],
   "source": [
    "collection.query(query_texts=[\"I like technology\"], n_results=2)"
   ]
  },
  {
   "cell_type": "code",
   "execution_count": 29,
   "id": "8cb9a86c-f31a-430d-9d19-94ceecb8b0dc",
   "metadata": {},
   "outputs": [
    {
     "data": {
      "text/plain": [
       "{'ids': [['id1', 'id3']],\n",
       " 'embeddings': None,\n",
       " 'documents': [['I like eating apple everyday', 'Do you like apple?']],\n",
       " 'uris': None,\n",
       " 'data': None,\n",
       " 'metadatas': [[{'url': 'source_to_id_1'}, {'url': 'source_to_id_3'}]],\n",
       " 'distances': [[0.9925782680511475, 1.4635143280029297]],\n",
       " 'included': [<IncludeEnum.distances: 'distances'>,\n",
       "  <IncludeEnum.documents: 'documents'>,\n",
       "  <IncludeEnum.metadatas: 'metadatas'>]}"
      ]
     },
     "execution_count": 29,
     "metadata": {},
     "output_type": "execute_result"
    }
   ],
   "source": [
    "collection.query(query_texts=[\"Do you eat healthy?\"], n_results=2)"
   ]
  },
  {
   "cell_type": "code",
   "execution_count": null,
   "id": "dc76bca2-49b0-423a-96d4-b6a117e70109",
   "metadata": {},
   "outputs": [],
   "source": []
  }
 ],
 "metadata": {
  "kernelspec": {
   "display_name": "Python 3 (ipykernel)",
   "language": "python",
   "name": "python3"
  },
  "language_info": {
   "codemirror_mode": {
    "name": "ipython",
    "version": 3
   },
   "file_extension": ".py",
   "mimetype": "text/x-python",
   "name": "python",
   "nbconvert_exporter": "python",
   "pygments_lexer": "ipython3",
   "version": "3.13.2"
  }
 },
 "nbformat": 4,
 "nbformat_minor": 5
}
